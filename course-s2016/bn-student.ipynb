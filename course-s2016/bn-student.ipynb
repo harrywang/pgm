{
 "cells": [
  {
   "cell_type": "markdown",
   "metadata": {},
   "source": [
    "# This is the program for a student Bayesian network "
   ]
  },
  {
   "cell_type": "code",
   "execution_count": 143,
   "metadata": {
    "collapsed": false
   },
   "outputs": [],
   "source": [
    "from pgmpy.models import BayesianModel\n",
    "student_model = BayesianModel()"
   ]
  },
  {
   "cell_type": "markdown",
   "metadata": {
    "collapsed": true
   },
   "source": [
    "Add nodes and edges"
   ]
  },
  {
   "cell_type": "code",
   "execution_count": 144,
   "metadata": {
    "collapsed": false
   },
   "outputs": [],
   "source": [
    "student_model.add_nodes_from(['difficulty', 'intelligence', 'grade', 'sat', 'letter'])"
   ]
  },
  {
   "cell_type": "code",
   "execution_count": 145,
   "metadata": {
    "collapsed": false
   },
   "outputs": [
    {
     "data": {
      "text/plain": [
       "['grade', 'letter', 'sat', 'intelligence', 'difficulty']"
      ]
     },
     "execution_count": 145,
     "metadata": {},
     "output_type": "execute_result"
    }
   ],
   "source": [
    "student_model.nodes()"
   ]
  },
  {
   "cell_type": "code",
   "execution_count": 146,
   "metadata": {
    "collapsed": true
   },
   "outputs": [],
   "source": [
    "student_model.add_edges_from([('difficulty', 'grade'), ('intelligence', 'grade'), ('intelligence', 'sat'), ('grade', 'letter')])"
   ]
  },
  {
   "cell_type": "code",
   "execution_count": 147,
   "metadata": {
    "collapsed": false
   },
   "outputs": [
    {
     "data": {
      "text/plain": [
       "[('grade', 'letter'),\n",
       " ('intelligence', 'grade'),\n",
       " ('intelligence', 'sat'),\n",
       " ('difficulty', 'grade')]"
      ]
     },
     "execution_count": 147,
     "metadata": {},
     "output_type": "execute_result"
    }
   ],
   "source": [
    "student_model.edges()"
   ]
  },
  {
   "cell_type": "markdown",
   "metadata": {},
   "source": [
    "In a Bayesian network, each node has an associated CPD (conditional probability distribution)."
   ]
  },
  {
   "cell_type": "code",
   "execution_count": 148,
   "metadata": {
    "collapsed": true
   },
   "outputs": [],
   "source": [
    "from pgmpy.factors import TabularCPD"
   ]
  },
  {
   "cell_type": "code",
   "execution_count": 149,
   "metadata": {
    "collapsed": false
   },
   "outputs": [],
   "source": [
    "#TabularCPD?\n",
    "cpd_difficulty = TabularCPD('difficulty', 2, [[0.6], [0.4]])\n",
    "cpd_intelligence = TabularCPD('intelligence', 2, [[0.7], [0.3]])\n",
    "cpd_sat = TabularCPD('sat', 2, [[0.95, 0.2], \n",
    "                                [0.05, 0.8]], evidence=['intelligence'], evidence_card=[2])\n",
    "cpd_grade = TabularCPD('grade', 3, [[0.3, 0.05, 0.9, 0.5],\n",
    "                                    [0.4, 0.25, 0.08, 0.3],\n",
    "                                    [0.3, 0.7, 0.02, 0.2]],\n",
    "                       evidence=['intelligence', 'difficulty'], evidence_card=[2, 2])\n",
    "cpd_letter = TabularCPD('letter', 2, [[0.1, 0.4, 0.99], [0.9, 0.6, 0.01]], evidence=['grade'], evidence_card=[3])"
   ]
  },
  {
   "cell_type": "code",
   "execution_count": 150,
   "metadata": {
    "collapsed": true
   },
   "outputs": [],
   "source": [
    "student_model.add_cpds(cpd_difficulty, cpd_intelligence, cpd_sat, cpd_grade, cpd_letter)"
   ]
  },
  {
   "cell_type": "code",
   "execution_count": 151,
   "metadata": {
    "collapsed": false
   },
   "outputs": [
    {
     "name": "stdout",
     "output_type": "stream",
     "text": [
      "╒══════════════╤═════╕\n",
      "│ difficulty_0 │ 0.6 │\n",
      "├──────────────┼─────┤\n",
      "│ difficulty_1 │ 0.4 │\n",
      "╘══════════════╧═════╛\n",
      "╒════════════════╤═════╕\n",
      "│ intelligence_0 │ 0.7 │\n",
      "├────────────────┼─────┤\n",
      "│ intelligence_1 │ 0.3 │\n",
      "╘════════════════╧═════╛\n",
      "╒══════════════╤════════════════╤════════════════╤════════════════╤════════════════╕\n",
      "│ intelligence │ intelligence_0 │ intelligence_0 │ intelligence_1 │ intelligence_1 │\n",
      "├──────────────┼────────────────┼────────────────┼────────────────┼────────────────┤\n",
      "│ difficulty   │ difficulty_0   │ difficulty_1   │ difficulty_0   │ difficulty_1   │\n",
      "├──────────────┼────────────────┼────────────────┼────────────────┼────────────────┤\n",
      "│ grade_0      │ 0.3            │ 0.05           │ 0.9            │ 0.5            │\n",
      "├──────────────┼────────────────┼────────────────┼────────────────┼────────────────┤\n",
      "│ grade_1      │ 0.4            │ 0.25           │ 0.08           │ 0.3            │\n",
      "├──────────────┼────────────────┼────────────────┼────────────────┼────────────────┤\n",
      "│ grade_2      │ 0.3            │ 0.7            │ 0.02           │ 0.2            │\n",
      "╘══════════════╧════════════════╧════════════════╧════════════════╧════════════════╛\n",
      "╒══════════════╤════════════════╤════════════════╕\n",
      "│ intelligence │ intelligence_0 │ intelligence_1 │\n",
      "├──────────────┼────────────────┼────────────────┤\n",
      "│ sat_0        │ 0.95           │ 0.2            │\n",
      "├──────────────┼────────────────┼────────────────┤\n",
      "│ sat_1        │ 0.05           │ 0.8            │\n",
      "╘══════════════╧════════════════╧════════════════╛\n",
      "╒══════════╤═════════╤═════════╤═════════╕\n",
      "│ grade    │ grade_0 │ grade_1 │ grade_2 │\n",
      "├──────────┼─────────┼─────────┼─────────┤\n",
      "│ letter_0 │ 0.1     │ 0.4     │ 0.99    │\n",
      "├──────────┼─────────┼─────────┼─────────┤\n",
      "│ letter_1 │ 0.9     │ 0.6     │ 0.01    │\n",
      "╘══════════╧═════════╧═════════╧═════════╛\n"
     ]
    }
   ],
   "source": [
    "student_model.get_cpds()\n",
    "print(cpd_difficulty) # 0:easy, 1:hard\n",
    "print(cpd_intelligence) # 0:low, 1:high\n",
    "print(cpd_grade) # 0:A, 1:B, 2:C\n",
    "print(cpd_sat) # 0:low, 1:high\n",
    "print(cpd_letter) # 0:week, 1:strong"
   ]
  },
  {
   "cell_type": "markdown",
   "metadata": {},
   "source": [
    "To check the consistency of the model and associated CPDs"
   ]
  },
  {
   "cell_type": "code",
   "execution_count": 152,
   "metadata": {
    "collapsed": false
   },
   "outputs": [
    {
     "data": {
      "text/plain": [
       "(grade _|_ difficulty, intelligence, sat | letter)\n",
       "(grade _|_ letter, intelligence, difficulty | sat)\n",
       "(grade _|_ letter, difficulty | intelligence)\n",
       "(grade _|_ letter, intelligence, sat | difficulty)\n",
       "(letter _|_ grade, intelligence, difficulty | sat)\n",
       "(letter _|_ grade, difficulty | intelligence)\n",
       "(letter _|_ grade, intelligence, sat | difficulty)\n",
       "(sat _|_ intelligence, difficulty | grade)\n",
       "(sat _|_ grade, intelligence, difficulty | letter)\n",
       "(sat _|_ grade, letter, intelligence | difficulty)\n",
       "(intelligence _|_ sat, difficulty | grade)\n",
       "(intelligence _|_ sat, grade, difficulty | letter)\n",
       "(intelligence _|_ grade, letter | sat)\n",
       "(intelligence _|_ grade, letter, sat | difficulty)\n",
       "(difficulty _|_ intelligence, sat | grade)\n",
       "(difficulty _|_ grade, intelligence, sat | letter)\n",
       "(difficulty _|_ grade, letter | sat)\n",
       "(difficulty _|_ grade, letter | intelligence)"
      ]
     },
     "execution_count": 152,
     "metadata": {},
     "output_type": "execute_result"
    }
   ],
   "source": [
    "student_model.check_model()\n",
    "student_model.get_independencies()"
   ]
  },
  {
   "cell_type": "markdown",
   "metadata": {
    "collapsed": true
   },
   "source": [
    "if an influence can flow in a trail in a network, it is known as an active trail"
   ]
  },
  {
   "cell_type": "code",
   "execution_count": 153,
   "metadata": {
    "collapsed": false
   },
   "outputs": [
    {
     "data": {
      "text/plain": [
       "False"
      ]
     },
     "execution_count": 153,
     "metadata": {},
     "output_type": "execute_result"
    }
   ],
   "source": [
    "student_model.is_active_trail('difficulty', 'intelligence')"
   ]
  },
  {
   "cell_type": "code",
   "execution_count": 154,
   "metadata": {
    "collapsed": false
   },
   "outputs": [
    {
     "data": {
      "text/plain": [
       "True"
      ]
     },
     "execution_count": 154,
     "metadata": {},
     "output_type": "execute_result"
    }
   ],
   "source": [
    "student_model.is_active_trail('difficulty', 'intelligence',\n",
    "observed='grade')"
   ]
  },
  {
   "cell_type": "markdown",
   "metadata": {},
   "source": [
    "You can query the network as follows: `query(variables, evidence=None, elimination_order=None)`\n",
    "\n",
    "- variables: list :\n",
    "    list of variables for which you want to compute the probability\n",
    "- evidence: dict :\n",
    "    a dict key, value pair as {var: state_of_var_observed} None if no evidence\n",
    "- elimination_order: list :\n",
    "    order of variable eliminations (if nothing is provided) order is computed automatically"
   ]
  },
  {
   "cell_type": "code",
   "execution_count": 155,
   "metadata": {
    "collapsed": false
   },
   "outputs": [
    {
     "name": "stdout",
     "output_type": "stream",
     "text": [
      "╒═════════╤══════════════╕\n",
      "│ grade   │   phi(grade) │\n",
      "╞═════════╪══════════════╡\n",
      "│ grade_0 │       0.4470 │\n",
      "├─────────┼──────────────┤\n",
      "│ grade_1 │       0.2714 │\n",
      "├─────────┼──────────────┤\n",
      "│ grade_2 │       0.2816 │\n",
      "╘═════════╧══════════════╛\n",
      "╒══════════╤═══════════════╕\n",
      "│ letter   │   phi(letter) │\n",
      "╞══════════╪═══════════════╡\n",
      "│ letter_0 │        0.4320 │\n",
      "├──────────┼───────────────┤\n",
      "│ letter_1 │        0.5680 │\n",
      "╘══════════╧═══════════════╛\n"
     ]
    }
   ],
   "source": [
    "from pgmpy.inference import VariableElimination\n",
    "student_infer = VariableElimination(student_model)\n",
    "# marginal prob of grade\n",
    "probs = student_infer.query(['grade', 'letter'])\n",
    "print(probs['grade'])\n",
    "print(probs['letter'])"
   ]
  },
  {
   "cell_type": "markdown",
   "metadata": {},
   "source": [
    "### Direct Causal Influence"
   ]
  },
  {
   "cell_type": "code",
   "execution_count": 156,
   "metadata": {
    "collapsed": false
   },
   "outputs": [
    {
     "name": "stdout",
     "output_type": "stream",
     "text": [
      "╒═════════╤══════════════╕\n",
      "│ grade   │   phi(grade) │\n",
      "╞═════════╪══════════════╡\n",
      "│ grade_0 │       0.4470 │\n",
      "├─────────┼──────────────┤\n",
      "│ grade_1 │       0.2714 │\n",
      "├─────────┼──────────────┤\n",
      "│ grade_2 │       0.2816 │\n",
      "╘═════════╧══════════════╛\n"
     ]
    }
   ],
   "source": [
    "# probs of grades given knowing nothing about course difficulty and intelligence\n",
    "print(probs['grade'])"
   ]
  },
  {
   "cell_type": "code",
   "execution_count": 157,
   "metadata": {
    "collapsed": false
   },
   "outputs": [
    {
     "name": "stdout",
     "output_type": "stream",
     "text": [
      "╒═════════╤══════════════╕\n",
      "│ grade   │   phi(grade) │\n",
      "╞═════════╪══════════════╡\n",
      "│ grade_0 │       0.7800 │\n",
      "├─────────┼──────────────┤\n",
      "│ grade_1 │       0.1460 │\n",
      "├─────────┼──────────────┤\n",
      "│ grade_2 │       0.0740 │\n",
      "╘═════════╧══════════════╛\n"
     ]
    }
   ],
   "source": [
    "# probs of grades knowing course is hard\n",
    "prob_grade_hard = student_infer.query(['grade'], {'difficulty':1})\n",
    "print(prob_grade_hard['grade'])"
   ]
  },
  {
   "cell_type": "code",
   "execution_count": 158,
   "metadata": {
    "collapsed": false
   },
   "outputs": [
    {
     "name": "stdout",
     "output_type": "stream",
     "text": [
      "╒═════════╤══════════════╕\n",
      "│ grade   │   phi(grade) │\n",
      "╞═════════╪══════════════╡\n",
      "│ grade_0 │       0.0500 │\n",
      "├─────────┼──────────────┤\n",
      "│ grade_1 │       0.2500 │\n",
      "├─────────┼──────────────┤\n",
      "│ grade_2 │       0.7000 │\n",
      "╘═════════╧══════════════╛\n"
     ]
    }
   ],
   "source": [
    "# probs of getting an A knowing course is easy, and intelligence is low\n",
    "prob_grade_easy_smart = student_infer.query(['grade'], {'difficulty':0, 'intelligence':1})\n",
    "print(prob_grade_easy_smart['grade'])"
   ]
  },
  {
   "cell_type": "markdown",
   "metadata": {},
   "source": [
    "### Indirect Causal Influence"
   ]
  },
  {
   "cell_type": "code",
   "execution_count": 159,
   "metadata": {
    "collapsed": false
   },
   "outputs": [
    {
     "name": "stdout",
     "output_type": "stream",
     "text": [
      "╒══════════╤═══════════════╕\n",
      "│ letter   │   phi(letter) │\n",
      "╞══════════╪═══════════════╡\n",
      "│ letter_0 │        0.4320 │\n",
      "├──────────┼───────────────┤\n",
      "│ letter_1 │        0.5680 │\n",
      "╘══════════╧═══════════════╛\n"
     ]
    }
   ],
   "source": [
    "# probs of letter knowing nothing\n",
    "print(probs['letter'])"
   ]
  },
  {
   "cell_type": "code",
   "execution_count": 160,
   "metadata": {
    "collapsed": false
   },
   "outputs": [
    {
     "name": "stdout",
     "output_type": "stream",
     "text": [
      "╒══════════╤═══════════════╕\n",
      "│ letter   │   phi(letter) │\n",
      "╞══════════╪═══════════════╡\n",
      "│ letter_0 │        0.2097 │\n",
      "├──────────┼───────────────┤\n",
      "│ letter_1 │        0.7903 │\n",
      "╘══════════╧═══════════════╛\n"
     ]
    }
   ],
   "source": [
    "# probs of letter knowing course is difficult\n",
    "prob_letter_hard = student_infer.query(['letter'], {'difficulty':1})\n",
    "print(prob_letter_hard['letter'])"
   ]
  },
  {
   "cell_type": "markdown",
   "metadata": {},
   "source": [
    "### Direct Evidential Influence"
   ]
  },
  {
   "cell_type": "code",
   "execution_count": null,
   "metadata": {
    "collapsed": true
   },
   "outputs": [],
   "source": []
  }
 ],
 "metadata": {
  "kernelspec": {
   "display_name": "Python 3",
   "language": "python",
   "name": "python3"
  },
  "language_info": {
   "codemirror_mode": {
    "name": "ipython",
    "version": 3
   },
   "file_extension": ".py",
   "mimetype": "text/x-python",
   "name": "python",
   "nbconvert_exporter": "python",
   "pygments_lexer": "ipython3",
   "version": "3.4.4"
  }
 },
 "nbformat": 4,
 "nbformat_minor": 0
}
